{
  "nbformat": 4,
  "nbformat_minor": 0,
  "metadata": {
    "colab": {
      "provenance": []
    },
    "kernelspec": {
      "name": "python3",
      "display_name": "Python 3"
    },
    "language_info": {
      "name": "python"
    }
  },
  "cells": [
    {
      "cell_type": "code",
      "source": [
        "!pip install qrcode\n",
        "import qrcode\n",
        "from PIL import Image\n",
        "\n",
        "qr = qrcode.QRCode(\n",
        "    version=1,\n",
        "    error_correction=qrcode.constants.ERROR_CORRECT_L,\n",
        "    box_size=10,\n",
        "    border=4,\n",
        ")\n",
        "\n",
        "maps_link = \"...\"\n",
        "qr.add_data(maps_link)\n",
        "qr.make(fit=True)\n",
        "\n",
        "qr_image = qr.make_image(fill_color=\"black\", back_color=\"#fcf5a9\")\n",
        "\n",
        "qr_image.save(\"p.png\")\n",
        "\n"
      ],
      "metadata": {
        "colab": {
          "base_uri": "https://localhost:8080/"
        },
        "id": "ankARefqPeo8",
        "outputId": "0e965eb3-e73c-430f-a4e1-35cf0ab3f471"
      },
      "execution_count": null,
      "outputs": [
        {
          "output_type": "stream",
          "name": "stdout",
          "text": [
            "Requirement already satisfied: qrcode in /usr/local/lib/python3.10/dist-packages (7.4.2)\n",
            "Requirement already satisfied: typing-extensions in /usr/local/lib/python3.10/dist-packages (from qrcode) (4.12.2)\n",
            "Requirement already satisfied: pypng in /usr/local/lib/python3.10/dist-packages (from qrcode) (0.20220715.0)\n"
          ]
        }
      ]
    }
  ]
}